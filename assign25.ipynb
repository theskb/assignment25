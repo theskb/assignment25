{
 "cells": [
  {
   "cell_type": "code",
   "execution_count": null,
   "metadata": {},
   "outputs": [],
   "source": [
    "#Q1) . What is the difference between enclosing a list comprehension in square brackets and parentheses?"
   ]
  },
  {
   "cell_type": "code",
   "execution_count": 2,
   "metadata": {},
   "outputs": [
    {
     "data": {
      "text/plain": [
       "[0, 1, 2, 3, 4, 5, 6, 7, 8, 9]"
      ]
     },
     "execution_count": 2,
     "metadata": {},
     "output_type": "execute_result"
    }
   ],
   "source": [
    "#ANS) list comprehension with square bracket produces list.\n",
    "val= [i for i in range(10)]\n",
    "val"
   ]
  },
  {
   "cell_type": "code",
   "execution_count": 3,
   "metadata": {},
   "outputs": [
    {
     "data": {
      "text/plain": [
       "<generator object <genexpr> at 0x0000016D151AE740>"
      ]
     },
     "execution_count": 3,
     "metadata": {},
     "output_type": "execute_result"
    }
   ],
   "source": [
    "# list comprehension with parentheses create generator.\n",
    "val2= (i for i in range(10))\n",
    "val2"
   ]
  },
  {
   "cell_type": "code",
   "execution_count": null,
   "metadata": {},
   "outputs": [],
   "source": [
    "#Q2) What is the relationship between generators and iterators?"
   ]
  },
  {
   "cell_type": "code",
   "execution_count": 4,
   "metadata": {},
   "outputs": [
    {
     "name": "stdout",
     "output_type": "stream",
     "text": [
      "sandeep\n",
      "kumar\n",
      "bharti\n"
     ]
    }
   ],
   "source": [
    "#ANS-> An iterator is an object which contains a countable number of values and it is used to iterate over iterable objects like list, tuples etc\n",
    "#Using an iterator- iter() keyword is used to create an iterator containing an iterable object. \n",
    "#next() keyword is used to call the next element in the iterable object.\n",
    "iter_list = iter(['sandeep', 'kumar', 'bharti'])\n",
    "print(next(iter_list))\n",
    "print(next(iter_list))\n",
    "print(next(iter_list))"
   ]
  },
  {
   "cell_type": "code",
   "execution_count": null,
   "metadata": {},
   "outputs": [],
   "source": [
    "#Generator It is another way of creating iterators in a simple way where it uses the keyword “yield” instead of returning \n",
    "#it in a defined function Generators are implemented using a function Here, the yield function returns the data without \n",
    "#affecting or exiting the function. It will return a sequence of data in an iterable format where we need to iterate over \n",
    "#the sequence to use the data as they won’t store the entire sequence in the memory.\n",
    "#By using next() function we can iterate the output of generator function\n"
   ]
  },
  {
   "cell_type": "code",
   "execution_count": 7,
   "metadata": {},
   "outputs": [
    {
     "name": "stdout",
     "output_type": "stream",
     "text": [
      "1\n",
      "4\n",
      "9\n"
     ]
    }
   ],
   "source": [
    "#generator\n",
    "def square(n):\n",
    "    for i in range(1, n+1):\n",
    "        yield i*i\n",
    "a = square(3)\n",
    "print(next(a))\n",
    "print(next(a))\n",
    "print(next(a))\n",
    "  "
   ]
  },
  {
   "cell_type": "code",
   "execution_count": null,
   "metadata": {},
   "outputs": [],
   "source": [
    "#Q3) What are the signs that a function is a generator function?"
   ]
  },
  {
   "cell_type": "code",
   "execution_count": null,
   "metadata": {},
   "outputs": [],
   "source": [
    "ANS->#If a function contains at least one yield statement (it may contain other yield or return statements), \n",
    "#it becomes a generator function. Both yield and return will return some value from a function."
   ]
  },
  {
   "cell_type": "code",
   "execution_count": null,
   "metadata": {},
   "outputs": [],
   "source": [
    "#Q4) What is the purpose of a yield statement?"
   ]
  },
  {
   "cell_type": "code",
   "execution_count": null,
   "metadata": {},
   "outputs": [],
   "source": [
    " ANS->#A yield statement looks much like a return statement, except that instead of stopping execution of the function and \n",
    "#returning, yield instead provides a value to the code looping over the generator and pauses execution of the generator function"
   ]
  },
  {
   "cell_type": "code",
   "execution_count": null,
   "metadata": {},
   "outputs": [],
   "source": [
    "#Q5) What is the relationship between map calls and list comprehensions? \n",
    "#Make a comparison and contrast between the two."
   ]
  },
  {
   "cell_type": "code",
   "execution_count": null,
   "metadata": {},
   "outputs": [],
   "source": [
    "#ANS->Map function: Suppose we have a function and we want to compute this function for different values in a single line of \n",
    "#code . This is where map() function plays its role. map() function returns a map object(which is an iterator) of the results \n",
    "#after applying the given function to each item of a given iterable (list, tuple etc.)"
   ]
  },
  {
   "cell_type": "code",
   "execution_count": null,
   "metadata": {},
   "outputs": [],
   "source": [
    "#If we already have a function defined, it is often good to use map For example, map(sum, myLists) is more neat than\n",
    "#[sum(x) for x in myLists]. You gain the elegance of not having to make up a dummy variable \n",
    "#(e.g. sum(x) for x... or sum() for ... or sum(readableName) for readableName...) which you have to type twice, just to iterate"
   ]
  },
  {
   "cell_type": "code",
   "execution_count": null,
   "metadata": {},
   "outputs": [],
   "source": [
    "#List Comprehension: List Comprehension is a substitute for the lambda function, map(), filter() and reduce()"
   ]
  },
  {
   "cell_type": "code",
   "execution_count": null,
   "metadata": {},
   "outputs": [],
   "source": [
    "#Comparision :\n",
    "#List comprehension is more concise and easier to read as compared to map\n",
    "#List comprehension allows filtering. In map, we have no such facility For example, to print all even numbers in range of 100,..\n",
    "#..we can write [n for n in range(100) if n%2 == 0]. There is no alternate for it in map.\n",
    "\n",
    "#List comprehension are used when a list of results is required, where as map only returns a map object and does not return any list.\n",
    "#List comprehension is faster than map when we need to evaluate expressions that are too long or complicated to express\n",
    "#Map is faster in case of calling an already defined function (as no lambda is required)"
   ]
  },
  {
   "cell_type": "code",
   "execution_count": null,
   "metadata": {},
   "outputs": [],
   "source": []
  }
 ],
 "metadata": {
  "kernelspec": {
   "display_name": "Python 3",
   "language": "python",
   "name": "python3"
  },
  "language_info": {
   "codemirror_mode": {
    "name": "ipython",
    "version": 3
   },
   "file_extension": ".py",
   "mimetype": "text/x-python",
   "name": "python",
   "nbconvert_exporter": "python",
   "pygments_lexer": "ipython3",
   "version": "3.8.5"
  }
 },
 "nbformat": 4,
 "nbformat_minor": 4
}
